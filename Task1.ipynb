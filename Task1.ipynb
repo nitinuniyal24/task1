{
 "cells": [
  {
   "cell_type": "code",
   "execution_count": 24,
   "metadata": {},
   "outputs": [],
   "source": [
    "import numpy as np"
   ]
  },
  {
   "cell_type": "code",
   "execution_count": 25,
   "metadata": {},
   "outputs": [],
   "source": [
    "import pandas as pd"
   ]
  },
  {
   "cell_type": "code",
   "execution_count": 6,
   "metadata": {},
   "outputs": [
    {
     "name": "stdout",
     "output_type": "stream",
     "text": [
      "Number = 0 \t Cumulative sum = 0\n",
      "Number = 1 \t Cumulative sum = 1\n",
      "Number = 2 \t Cumulative sum = 3\n",
      "Number = 3 \t Cumulative sum = 6\n",
      "Number = 4 \t Cumulative sum = 10\n",
      "Number = 5 \t Cumulative sum = 15\n",
      "Number = 6 \t Cumulative sum = 21\n",
      "Number = 7 \t Cumulative sum = 28\n",
      "Number = 8 \t Cumulative sum = 36\n",
      "Number = 9 \t Cumulative sum = 45\n"
     ]
    }
   ],
   "source": [
    "#Task-1\n",
    "nos = np.arange(10)\n",
    "sum_nos = 0\n",
    "for i in nos:\n",
    "    sum_nos = sum_nos + i\n",
    "    print(\"Number =\",str(i),\"\\t\",\"Cumulative sum =\",str(sum_nos))"
   ]
  },
  {
   "cell_type": "code",
   "execution_count": 5,
   "metadata": {},
   "outputs": [
    {
     "name": "stdout",
     "output_type": "stream",
     "text": [
      "A\t\n",
      "B\tB\t\n",
      "C\tC\tC\t\n",
      "D\tD\tD\tD\t\n",
      "E\tE\tE\tE\tE\t\n"
     ]
    }
   ],
   "source": [
    "#Task-2\n",
    "char_ls = ['A','B','C','D','E']\n",
    "for i in range(len(char_ls)):\n",
    "    print((char_ls[i]+\"\\t\")*(i+1))"
   ]
  },
  {
   "cell_type": "code",
   "execution_count": 58,
   "metadata": {},
   "outputs": [
    {
     "name": "stdout",
     "output_type": "stream",
     "text": [
      "      Name  age  height   Address  cell number\n",
      "0  person1   23     5.8  address1   1234567890\n",
      "1  person2   34     6.1  address2   9876543210\n"
     ]
    }
   ],
   "source": [
    "#Task-3\n",
    "contact_dict = {\"Name\":[\"person1\",\"person2\"],\"age\":[23,34],\"height\":[5.8,6.1],\"Address\":[\"address1\",\"address2\"],\"cell number\":[1234567890,9876543210]}\n",
    "df_t3 = pd.DataFrame(contact_dict)\n",
    "print(df_t3)"
   ]
  },
  {
   "cell_type": "code",
   "execution_count": 16,
   "metadata": {},
   "outputs": [
    {
     "name": "stdout",
     "output_type": "stream",
     "text": [
      "Enter number : 2345667\n",
      "2\n",
      "3\n",
      "4\n",
      "5\n",
      "6\n",
      "6\n",
      "7\n"
     ]
    }
   ],
   "source": [
    "#Task-4\n",
    "num_t4 = int(input(\"Enter number : \")) #Enter number 2345667\n",
    "for i in str(num_t4):\n",
    "    print(i)"
   ]
  },
  {
   "cell_type": "code",
   "execution_count": 20,
   "metadata": {},
   "outputs": [
    {
     "name": "stdout",
     "output_type": "stream",
     "text": [
      "['z', 'a', 'b', 'c', 'd']\n"
     ]
    }
   ],
   "source": [
    "#Task-5\n",
    "letters = [\"a\",\"b\",\"c\",\"d\"]\n",
    "letters.insert(0,\"z\")\n",
    "print(letters)"
   ]
  },
  {
   "cell_type": "code",
   "execution_count": 27,
   "metadata": {},
   "outputs": [
    {
     "name": "stdout",
     "output_type": "stream",
     "text": [
      "[1 3 5 7 9]\n"
     ]
    }
   ],
   "source": [
    "# Task-6\n",
    "nos_t6 = np.arange(10)\n",
    "print(nos_t6[ nos_t6 % 2 != 0])"
   ]
  },
  {
   "cell_type": "code",
   "execution_count": 29,
   "metadata": {},
   "outputs": [
    {
     "name": "stdout",
     "output_type": "stream",
     "text": [
      "H\n",
      "e\n",
      "l\n",
      "l\n",
      "o\n",
      ",\n",
      " \n",
      "A\n",
      "l\n",
      "l\n",
      "!\n"
     ]
    }
   ],
   "source": [
    "# Task-7\n",
    "stringname = \"Hello, All!\"\n",
    "for i in stringname:\n",
    "    print(i)"
   ]
  },
  {
   "cell_type": "code",
   "execution_count": 30,
   "metadata": {},
   "outputs": [
    {
     "name": "stdout",
     "output_type": "stream",
     "text": [
      "2\n",
      "4\n",
      "6\n",
      "8\n",
      "10\n"
     ]
    }
   ],
   "source": [
    "# Task-8\n",
    "Input_list = [2,4,6,8,10,13,12,14,16,18]\n",
    "for i in Input_list:\n",
    "    if i%2 != 0:\n",
    "        break\n",
    "    else:\n",
    "        print(i)"
   ]
  },
  {
   "cell_type": "code",
   "execution_count": 40,
   "metadata": {},
   "outputs": [
    {
     "name": "stdout",
     "output_type": "stream",
     "text": [
      "1 2\n",
      "3 4\n",
      "5 6\n",
      "7 8\n"
     ]
    }
   ],
   "source": [
    "# Task-9\n",
    "my_list1 = [1,3,5,7]\n",
    "my_list2 = [2,4,6,8]\n",
    "for i in range(len(my_list1)):\n",
    "    print(my_list1[i],my_list2[i])"
   ]
  },
  {
   "cell_type": "code",
   "execution_count": 41,
   "metadata": {},
   "outputs": [
    {
     "name": "stdout",
     "output_type": "stream",
     "text": [
      "6\n"
     ]
    }
   ],
   "source": [
    "# Task-10\n",
    "def product(num1,num2):\n",
    "    print(num1*num2)\n",
    "    \n",
    "product(2,3)"
   ]
  },
  {
   "cell_type": "code",
   "execution_count": 48,
   "metadata": {},
   "outputs": [
    {
     "name": "stdout",
     "output_type": "stream",
     "text": [
      "0,1,1,2,3,5,8,13,"
     ]
    }
   ],
   "source": [
    "# Task-11\n",
    "def fibonacci_series(num):\n",
    "    first_num = 0\n",
    "    second_num = 1\n",
    "    for i in range(num):\n",
    "        if  i==0:\n",
    "            print(first_num,end=\",\")\n",
    "        elif i==1:\n",
    "            print(second_num,end=\",\")\n",
    "        else:\n",
    "            sum=first_num + second_num\n",
    "            print(sum,end=\",\")\n",
    "            first_num = second_num\n",
    "            second_num = sum\n",
    "\n",
    "fibonacci_series(8)"
   ]
  },
  {
   "cell_type": "code",
   "execution_count": 53,
   "metadata": {},
   "outputs": [
    {
     "data": {
      "text/html": [
       "<div>\n",
       "<style scoped>\n",
       "    .dataframe tbody tr th:only-of-type {\n",
       "        vertical-align: middle;\n",
       "    }\n",
       "\n",
       "    .dataframe tbody tr th {\n",
       "        vertical-align: top;\n",
       "    }\n",
       "\n",
       "    .dataframe thead th {\n",
       "        text-align: right;\n",
       "    }\n",
       "</style>\n",
       "<table border=\"1\" class=\"dataframe\">\n",
       "  <thead>\n",
       "    <tr style=\"text-align: right;\">\n",
       "      <th></th>\n",
       "      <th>PassengerId</th>\n",
       "      <th>Survived</th>\n",
       "      <th>Pclass</th>\n",
       "      <th>Name</th>\n",
       "      <th>Sex</th>\n",
       "      <th>Age</th>\n",
       "      <th>SibSp</th>\n",
       "      <th>Parch</th>\n",
       "      <th>Ticket</th>\n",
       "      <th>Fare</th>\n",
       "      <th>Cabin</th>\n",
       "      <th>Embarked</th>\n",
       "    </tr>\n",
       "  </thead>\n",
       "  <tbody>\n",
       "    <tr>\n",
       "      <th>0</th>\n",
       "      <td>1</td>\n",
       "      <td>0</td>\n",
       "      <td>3</td>\n",
       "      <td>Braund, Mr. Owen Harris</td>\n",
       "      <td>male</td>\n",
       "      <td>22.0</td>\n",
       "      <td>1</td>\n",
       "      <td>0</td>\n",
       "      <td>A/5 21171</td>\n",
       "      <td>7.2500</td>\n",
       "      <td>NaN</td>\n",
       "      <td>S</td>\n",
       "    </tr>\n",
       "    <tr>\n",
       "      <th>1</th>\n",
       "      <td>2</td>\n",
       "      <td>1</td>\n",
       "      <td>1</td>\n",
       "      <td>Cumings, Mrs. John Bradley (Florence Briggs Th...</td>\n",
       "      <td>female</td>\n",
       "      <td>38.0</td>\n",
       "      <td>1</td>\n",
       "      <td>0</td>\n",
       "      <td>PC 17599</td>\n",
       "      <td>71.2833</td>\n",
       "      <td>C85</td>\n",
       "      <td>C</td>\n",
       "    </tr>\n",
       "    <tr>\n",
       "      <th>2</th>\n",
       "      <td>3</td>\n",
       "      <td>1</td>\n",
       "      <td>3</td>\n",
       "      <td>Heikkinen, Miss. Laina</td>\n",
       "      <td>female</td>\n",
       "      <td>26.0</td>\n",
       "      <td>0</td>\n",
       "      <td>0</td>\n",
       "      <td>STON/O2. 3101282</td>\n",
       "      <td>7.9250</td>\n",
       "      <td>NaN</td>\n",
       "      <td>S</td>\n",
       "    </tr>\n",
       "    <tr>\n",
       "      <th>3</th>\n",
       "      <td>4</td>\n",
       "      <td>1</td>\n",
       "      <td>1</td>\n",
       "      <td>Futrelle, Mrs. Jacques Heath (Lily May Peel)</td>\n",
       "      <td>female</td>\n",
       "      <td>35.0</td>\n",
       "      <td>1</td>\n",
       "      <td>0</td>\n",
       "      <td>113803</td>\n",
       "      <td>53.1000</td>\n",
       "      <td>C123</td>\n",
       "      <td>S</td>\n",
       "    </tr>\n",
       "    <tr>\n",
       "      <th>4</th>\n",
       "      <td>5</td>\n",
       "      <td>0</td>\n",
       "      <td>3</td>\n",
       "      <td>Allen, Mr. William Henry</td>\n",
       "      <td>male</td>\n",
       "      <td>35.0</td>\n",
       "      <td>0</td>\n",
       "      <td>0</td>\n",
       "      <td>373450</td>\n",
       "      <td>8.0500</td>\n",
       "      <td>NaN</td>\n",
       "      <td>S</td>\n",
       "    </tr>\n",
       "  </tbody>\n",
       "</table>\n",
       "</div>"
      ],
      "text/plain": [
       "   PassengerId  Survived  Pclass  \\\n",
       "0            1         0       3   \n",
       "1            2         1       1   \n",
       "2            3         1       3   \n",
       "3            4         1       1   \n",
       "4            5         0       3   \n",
       "\n",
       "                                                Name     Sex   Age  SibSp  \\\n",
       "0                            Braund, Mr. Owen Harris    male  22.0      1   \n",
       "1  Cumings, Mrs. John Bradley (Florence Briggs Th...  female  38.0      1   \n",
       "2                             Heikkinen, Miss. Laina  female  26.0      0   \n",
       "3       Futrelle, Mrs. Jacques Heath (Lily May Peel)  female  35.0      1   \n",
       "4                           Allen, Mr. William Henry    male  35.0      0   \n",
       "\n",
       "   Parch            Ticket     Fare Cabin Embarked  \n",
       "0      0         A/5 21171   7.2500   NaN        S  \n",
       "1      0          PC 17599  71.2833   C85        C  \n",
       "2      0  STON/O2. 3101282   7.9250   NaN        S  \n",
       "3      0            113803  53.1000  C123        S  \n",
       "4      0            373450   8.0500   NaN        S  "
      ]
     },
     "execution_count": 53,
     "metadata": {},
     "output_type": "execute_result"
    }
   ],
   "source": [
    "# Task-12\n",
    "sample_data = pd.read_csv(\"train.csv\") #imported a file \"train.csv\"\n",
    "sample_data.head()"
   ]
  },
  {
   "cell_type": "code",
   "execution_count": 57,
   "metadata": {},
   "outputs": [
    {
     "name": "stdout",
     "output_type": "stream",
     "text": [
      "[1, 2, 4, 5, 6]\n"
     ]
    }
   ],
   "source": [
    "# Task-13\n",
    "def remove_duplicates(lis):\n",
    "    create_set = set(lis)\n",
    "    return list(create_set)\n",
    "    \n",
    "lis_t13 = [1,2,2,5,6,6,4,5]\n",
    "print(remove_duplicates(lis_t13))"
   ]
  },
  {
   "cell_type": "code",
   "execution_count": 67,
   "metadata": {
    "scrolled": false
   },
   "outputs": [
    {
     "data": {
      "text/html": [
       "<div>\n",
       "<style scoped>\n",
       "    .dataframe tbody tr th:only-of-type {\n",
       "        vertical-align: middle;\n",
       "    }\n",
       "\n",
       "    .dataframe tbody tr th {\n",
       "        vertical-align: top;\n",
       "    }\n",
       "\n",
       "    .dataframe thead th {\n",
       "        text-align: right;\n",
       "    }\n",
       "</style>\n",
       "<table border=\"1\" class=\"dataframe\">\n",
       "  <thead>\n",
       "    <tr style=\"text-align: right;\">\n",
       "      <th></th>\n",
       "      <th>name</th>\n",
       "      <th>shirt_color</th>\n",
       "      <th>laptops</th>\n",
       "      <th>has_a_dog</th>\n",
       "      <th>items_on_desk</th>\n",
       "    </tr>\n",
       "  </thead>\n",
       "  <tbody>\n",
       "    <tr>\n",
       "      <th>0</th>\n",
       "      <td>Michele</td>\n",
       "      <td>blue</td>\n",
       "      <td>yellow</td>\n",
       "      <td>False</td>\n",
       "      <td>mug</td>\n",
       "    </tr>\n",
       "    <tr>\n",
       "      <th>1</th>\n",
       "      <td>Michele</td>\n",
       "      <td>blue</td>\n",
       "      <td>yellow</td>\n",
       "      <td>False</td>\n",
       "      <td>pen</td>\n",
       "    </tr>\n",
       "    <tr>\n",
       "      <th>2</th>\n",
       "      <td>Michele</td>\n",
       "      <td>blue</td>\n",
       "      <td>yellow</td>\n",
       "      <td>False</td>\n",
       "      <td>monitor</td>\n",
       "    </tr>\n",
       "  </tbody>\n",
       "</table>\n",
       "</div>"
      ],
      "text/plain": [
       "      name shirt_color laptops  has_a_dog items_on_desk\n",
       "0  Michele        blue  yellow      False           mug\n",
       "1  Michele        blue  yellow      False           pen\n",
       "2  Michele        blue  yellow      False       monitor"
      ]
     },
     "execution_count": 67,
     "metadata": {},
     "output_type": "execute_result"
    }
   ],
   "source": [
    "# Task-14\n",
    "df_t14 = pd.read_json(\"task_14.json\")\n",
    "df_t14.head()"
   ]
  },
  {
   "cell_type": "code",
   "execution_count": 76,
   "metadata": {},
   "outputs": [
    {
     "name": "stdout",
     "output_type": "stream",
     "text": [
      "[1, 2, 3, 5, 8, 13]\n"
     ]
    }
   ],
   "source": [
    "# Task-15\n",
    "def remove_duplicates_intersection(lis1,lis2):\n",
    "    set1 = set(lis1)\n",
    "    set2 = set(lis2)\n",
    "    return(list(set1.intersection(set2)))\n",
    "lis1 = [1,1,2,3,5,8,13,21,34,55,89]\n",
    "lis2 = [1,2,3,4,5,6,7,8,9,10,11,12,13]\n",
    "print(remove_duplicates_intersection(lis1,lis2))"
   ]
  },
  {
   "cell_type": "code",
   "execution_count": 51,
   "metadata": {},
   "outputs": [
    {
     "name": "stdout",
     "output_type": "stream",
     "text": [
      "Mike is name My "
     ]
    }
   ],
   "source": [
    "# Task-16\n",
    "def reverse_string(string):\n",
    "    ls = string.split(\" \")\n",
    "    for i in range(len(ls)):\n",
    "        print(ls[-(i+1)],end=\" \")\n",
    "            \n",
    "str_t16 = \"My name is Mike\"\n",
    "reverse_string(str_t16)\n"
   ]
  },
  {
   "cell_type": "code",
   "execution_count": 3,
   "metadata": {},
   "outputs": [
    {
     "name": "stdout",
     "output_type": "stream",
     "text": [
      "[10, 60]\n"
     ]
    }
   ],
   "source": [
    "# Task-17\n",
    "def first_last_num(lis):\n",
    "    return [lis[0],lis[-1]]\n",
    "\n",
    "lis_t17 = [10,20,30,40,50,60]\n",
    "print(first_last_num(lis_t17))"
   ]
  },
  {
   "cell_type": "code",
   "execution_count": 22,
   "metadata": {},
   "outputs": [
    {
     "name": "stdout",
     "output_type": "stream",
     "text": [
      "Enter a number : 56\n",
      "56 is composite\n"
     ]
    }
   ],
   "source": [
    "# Task-18\n",
    "def verify_prime(num):\n",
    "    flag=0\n",
    "    for i in range(2,(num//2)+1):\n",
    "        if num%i == 0:\n",
    "            flag+=1\n",
    "    if flag>0:\n",
    "        print(\"{} is composite\".format(num))\n",
    "    else:\n",
    "        print(\"{} is prime\".format(num))\n",
    "\n",
    "num_t18 = int(input(\"Enter a number : \"))#Enter a number to check for prime or composite\n",
    "verify_prime(num_t18)\n"
   ]
  },
  {
   "cell_type": "code",
   "execution_count": 67,
   "metadata": {},
   "outputs": [
    {
     "name": "stdout",
     "output_type": "stream",
     "text": [
      "True\n"
     ]
    }
   ],
   "source": [
    "# Task-19\n",
    "def search_number(ls,num):\n",
    "    mid = len(ls)//2\n",
    "    if num > ls[-1] or num < ls[0]:\n",
    "        return False\n",
    "    elif num == ls[mid]:\n",
    "        return True\n",
    "    else:\n",
    "        if num > ls[mid]:\n",
    "            return search_number(ls[mid+1:],num)\n",
    "        else:\n",
    "            return search_number(ls[:mid],num)\n",
    "    \n",
    "ls_t19 = np.arange(26)\n",
    "print(search_number(ls_t19,3))"
   ]
  },
  {
   "cell_type": "code",
   "execution_count": null,
   "metadata": {},
   "outputs": [],
   "source": [
    "# Task-20"
   ]
  },
  {
   "cell_type": "code",
   "execution_count": 68,
   "metadata": {},
   "outputs": [],
   "source": [
    "from bs4 import BeautifulSoup\n",
    "import requests"
   ]
  },
  {
   "cell_type": "code",
   "execution_count": 135,
   "metadata": {},
   "outputs": [
    {
     "name": "stdout",
     "output_type": "stream",
     "text": [
      "Haitian Officials Say American Held in Assassination Was Seeking Power\n",
      "The Mystery Deepens: What Were Colombian Military Vets Doing in Haiti?\n",
      "The Rationing of a Last-Resort Covid Treatment\n",
      "Despite Outbreaks Among Unvaccinated, Fox News Hosts Smear Shots\n",
      "Migrant workers in South Asia have lost jobs amid slow immunizations and red tape. Here’s the latest on Covid-19.\n",
      "U.S. vaccinations ›\n",
      "E.P.A. Approved Toxic Chemicals for Fracking a Decade Ago, New Files Show\n",
      "More power lines or rooftop solar panels? The debate is on over the future of energy.\n",
      "As Republicans Take Aim at Voting, Democrats Search for a Response\n",
      "Florida, the Land of Gleaming Condos, Frets After Collapse\n",
      "\n",
      "Facebook Wants to Court Creators. It Could Be a Tough Sell.\n",
      "Silicon Valley investors are increasingly seeing influencers as the next goldmine on the internet.\n",
      "Bank profits are poised to surge as the pandemic recedes. Here’s the latest on business.\n",
      "Cubans Denounce ‘Misery’ in Biggest Protests in Decades\n",
      "Hong Kong Migrants Seek Fresh Start in U.K. After Crackdown\n",
      "\n",
      "Why Jane Goodall Still Has Hope for Us Humans\n",
      "Karen Petrou\n",
      "Gail Collins and Bret Stephens\n",
      "Roxanne Khamsi\n",
      "Margaret Renkl\n",
      "Musa Okwonga\n",
      "Brent Staples\n",
      "Charles M. Blow\n",
      "Maureen Dowd\n",
      "Ross Douthat\n",
      "Adam Grant\n",
      "Amy Wilentz\n",
      "Viet Thanh Nguyen\n",
      "Tracy Kennard\n",
      "Michael Pollan\n",
      "Tourists in N.Y.C. Marvel at a Cleaner, Less-Crowded Subway\n",
      "Andrew Lloyd Webber’s New Act: Activism\n",
      "How Do You Stop Those Relentless Robocalls?\n"
     ]
    }
   ],
   "source": [
    "url = \"https://www.nytimes.com\"\n",
    "header = {'User-Agent':'Mozilla/5.0 (Windows NT 10.0; Win64; x64) AppleWebKit/537.36 (KHTML, like Gecko) Chrome/42.0.2311.135 Safari/537.36 Edge/12.246'}\n",
    "html = requests.get(url, headers = header).content\n",
    "soup = BeautifulSoup(html, \"lxml\")\n",
    "\n",
    "for i in soup.select(\".story-wrapper\"):\n",
    "    try:\n",
    "        print(i.find('h3').get_text())\n",
    "    except:\n",
    "        print(\"\")"
   ]
  },
  {
   "cell_type": "code",
   "execution_count": null,
   "metadata": {},
   "outputs": [],
   "source": []
  }
 ],
 "metadata": {
  "kernelspec": {
   "display_name": "Python 3",
   "language": "python",
   "name": "python3"
  },
  "language_info": {
   "codemirror_mode": {
    "name": "ipython",
    "version": 3
   },
   "file_extension": ".py",
   "mimetype": "text/x-python",
   "name": "python",
   "nbconvert_exporter": "python",
   "pygments_lexer": "ipython3",
   "version": "3.7.6"
  }
 },
 "nbformat": 4,
 "nbformat_minor": 4
}
